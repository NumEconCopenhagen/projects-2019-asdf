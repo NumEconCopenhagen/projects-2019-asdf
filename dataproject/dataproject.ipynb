{
 "cells": [
  {
   "cell_type": "markdown",
   "metadata": {},
   "source": [
    "---\n",
    "# Disposible Income Difference in Denmark\n",
    "**Christian Lyng (TQS500) & Lasse Trap-Hinge (QJW189)**"
   ]
  },
  {
   "cell_type": "markdown",
   "metadata": {},
   "source": [
    "In this data project, we seek to investigate the development of disposable income in Denmark over time. Moreover, we will investigate whether the disposable income differs by region and sex over time. For convenience of the reader, disposable income will be reffered to as income for the remainder of the analysis. \n",
    "\n",
    "*Note that the python file in the dataproject folder contains fully documented code*"
   ]
  },
  {
   "cell_type": "markdown",
   "metadata": {},
   "source": [
    "## Part 1: Disposable Income Difference by Region\n",
    "\n",
    "We approach this problem by starting with importing data from Statistics Denmark, more specifically from table INDKFPP3. "
   ]
  },
  {
   "cell_type": "code",
   "execution_count": 21,
   "metadata": {},
   "outputs": [],
   "source": [
    "#Import relevant packages\n",
    "import numpy as np\n",
    "import matplotlib.pyplot as plt\n",
    "import pandas as pd\n",
    "import ipywidgets as widgets\n",
    "import pydst\n",
    "%matplotlib inline \n",
    "\n",
    "#Define the language of DST used when collecting data\n",
    "Dst = pydst.Dst(lang = 'da')\n",
    "\n",
    "#Create a dictionary of columns to translate variables from DST to english\n",
    "columns_dict = {}\n",
    "columns_dict['REGION'] = 'Region'\n",
    "columns_dict['ENHED'] = 'Unit'\n",
    "columns_dict['KOEN'] = 'Sex'\n",
    "columns_dict['INDKINTB'] = 'Income Interval'\n",
    "columns_dict['TID'] = 'Year'\n",
    "columns_dict['INDHOLD'] = 'Income'\n",
    "\n",
    "#Collect data from DST using the pydst package\n",
    "df = Dst.get_data(table_id = 'INDKFPP3', variables={'REGION':['*'],'ENHED':['118'], 'KOEN':['MOK'], 'INDKINTB':['000'], 'TID':['*']})\n",
    "\n",
    "#Clean and structure data utilizing pandas functions\n",
    "df.rename(columns = columns_dict, inplace = True)  \n",
    "df.drop(columns = ['Unit', 'Sex', 'Income Interval'], inplace = True)  \n",
    "df['Region'] = df['Region'].replace({'Hele landet':'Denmark'})  \n",
    "df = df.pivot(index = 'Region', columns = 'Year', values = 'Income')    \n",
    "df = df.reindex(['Region Hovedstaden', 'Region Midtjylland', 'Region Nordjylland', 'Region Sjælland', 'Region Syddanmark', 'Denmark'], axis = 0)"
   ]
  },
  {
   "cell_type": "markdown",
   "metadata": {},
   "source": [
    "As we seek to investigate the development in income by region over time, we create an interactive bar chart. Moreover, we implement the average income in Denmark called \"Denmark\" which can be used as a reference for each region."
   ]
  },
  {
   "cell_type": "code",
   "execution_count": 22,
   "metadata": {},
   "outputs": [
    {
     "data": {
      "application/vnd.jupyter.widget-view+json": {
       "model_id": "e9fe9cbe2c944fa4a1388b42cb2c388d",
       "version_major": 2,
       "version_minor": 0
      },
      "text/plain": [
       "interactive(children=(IntSlider(value=1987, description='Year', max=2017, min=1987), Output()), _dom_classes=(…"
      ]
     },
     "metadata": {},
     "output_type": "display_data"
    }
   ],
   "source": [
    "#Define a function to create a bar plot of the disposable by region and year\n",
    "def income_figure_1(df, year):\n",
    "    df[[year]].plot(kind = 'bar', color = '#193264', figsize = (8,5)) \n",
    "    plt.xticks(rotation = 45, horizontalalignment= 'right')\n",
    "    plt.title('Disposible Income by region, 2016 prices', loc = 'left') \n",
    "    plt.ylabel('DKK')   \n",
    "    plt.xlabel('') \n",
    "    plt.ylim(100000, 300000)    \n",
    "    plt.show()\n",
    "    \n",
    "#Make the bar chart interactive by implementing ipywidgets\n",
    "def income_history_1(df):\n",
    "    widgets.interact(income_figure_1, \n",
    "    df = widgets.fixed(df),\n",
    "    year = widgets.IntSlider(description = 'Year', min = 1987, max = 2017, value = 1987)    \n",
    "    )              \n",
    "income_history_1(df)"
   ]
  },
  {
   "cell_type": "markdown",
   "metadata": {},
   "source": [
    "There is a substantial increase in the income overall. As we are considering 2016 prices, the interactive bar chart reflect real income increases. Region Hovedstaden consistently lies above the average and has the highest average income in Denmark of the five regions while Region Nordjylland has the lowest average disposable income throughout the period. The financial crisis in 2007/2008 is noticeable where a large decrease in income is observed.\n",
    "\n",
    "*Note that the y-axis is set to start at 100,000 to enhance the changes in disposable income*."
   ]
  },
  {
   "cell_type": "markdown",
   "metadata": {},
   "source": [
    "To further extend the analysis, we will consider another interactive bar chart but now with the y-axis fixed to the average income of Denmark. This visualization allow us to investigate how the income difference by region has changed throughout time compared to the average. "
   ]
  },
  {
   "cell_type": "code",
   "execution_count": 23,
   "metadata": {},
   "outputs": [
    {
     "data": {
      "application/vnd.jupyter.widget-view+json": {
       "model_id": "d050b3bf6bab4d9a894f9d8fa228ae55",
       "version_major": 2,
       "version_minor": 0
      },
      "text/plain": [
       "interactive(children=(IntSlider(value=1987, description='Year', max=2017, min=1987), Output()), _dom_classes=(…"
      ]
     },
     "metadata": {},
     "output_type": "display_data"
    }
   ],
   "source": [
    "#Create a new bar chart where the y-axis is fixed to 'Denmark'\n",
    "def income_figure_2(df, year):\n",
    "    df[[year]].plot(kind = 'bar', color = '#193264' , figsize = (8,5))  \n",
    "    plt.xticks(rotation = 45, horizontalalignment = 'right') \n",
    "    plt.title('Disposible Income by region, 2016 prices', loc = 'left') \n",
    "    plt.ylabel('DKK')   \n",
    "    plt.xlabel('')  \n",
    "    plt.ylim(0, df.loc['Denmark',year] * 2) \n",
    "    plt.show()\n",
    "\n",
    "#Make the bar chart interactive\n",
    "def income_history_2(df):\n",
    "    widgets.interact(income_figure_2, \n",
    "    df = widgets.fixed(df),\n",
    "    year = widgets.IntSlider(description = 'Year', min = 1987, max = 2017, value = 1987)                 \n",
    "    )  \n",
    "income_history_2(df)"
   ]
  },
  {
   "cell_type": "markdown",
   "metadata": {},
   "source": [
    "The distribution of income difference does not change much throughout the period. However, it is evident that Region Hovedstaden has the highest average income and Region Nordjylland the lowest. A different dataset might be able to better utilize the idea behind this interactive bar chart with a bar fixed on the y-axis. \n"
   ]
  },
  {
   "cell_type": "markdown",
   "metadata": {},
   "source": [
    "## Part 2: Disposable Income Difference by Sex\n",
    "\n",
    "To analyse the income difference between men and women, more specifically income growth, from 1987 to 2017, we import data from Statistics Denmark."
   ]
  },
  {
   "cell_type": "code",
   "execution_count": 24,
   "metadata": {},
   "outputs": [],
   "source": [
    "#Import data from DST\n",
    "df_mw = Dst.get_data(table_id = 'INDKFPP3', variables = {'REGION':['000'],'ENHED':['118'], 'KOEN':['M', 'K'], 'INDKINTB':['000'], 'TID':['*']})\n",
    "\n",
    "#Clean and structure data utilizing pandas functions\n",
    "df_mw.rename(columns = columns_dict, inplace = True) \n",
    "df_mw.drop(columns = ['Unit', 'Region', 'Income Interval'], inplace = True) \n",
    "df_mw['Sex'] = df_mw['Sex'].replace({'Mænd':'Men', 'Kvinder':'Women'})  \n",
    "df_mw = df_mw.pivot(index = 'Year', columns = 'Sex', values = 'Income') "
   ]
  },
  {
   "cell_type": "markdown",
   "metadata": {},
   "source": [
    "We compare growth in income for men and women by creating an index column for each where 1987 is set to 100."
   ]
  },
  {
   "cell_type": "code",
   "execution_count": 25,
   "metadata": {},
   "outputs": [],
   "source": [
    "#Create an index (1987 = 100) column for men and women\n",
    "df_mw['Index_Men'] = (df_mw['Men']/df_mw.iloc[0,0]) * 100 \n",
    "df_mw['Index_Women'] = (df_mw['Women']/df_mw.iloc[0,1]) * 100 "
   ]
  },
  {
   "cell_type": "markdown",
   "metadata": {},
   "source": [
    "To illustrate the developed in income growth for men and women throughout the period, we plot the development."
   ]
  },
  {
   "cell_type": "code",
   "execution_count": 26,
   "metadata": {},
   "outputs": [
    {
     "data": {
      "image/png": "[encoded data removed]",
      "text/plain": [
       "<Figure size 576x360 with 1 Axes>"
      ]
     },
     "metadata": {
      "needs_background": "light"
     },
     "output_type": "display_data"
    }
   ],
   "source": [
    "#Create a figure illustrating the development of disposable income over time for men and women\n",
    "df_mw['Index_Men'].plot(color = '#193264', linewidth = 4, label = 'Men', figsize = (8,5))                                                \n",
    "df_mw['Index_Women'].plot(color = '#800000', linewidth = 4, label = 'Women') \n",
    "plt.title('Disposible Income by Sex, 1987 = 100', loc = 'left') \n",
    "plt.legend()\n",
    "plt.show()"
   ]
  },
  {
   "cell_type": "markdown",
   "metadata": {},
   "source": [
    "Both disposable income for men and women have grown significantly from 1987 to 2017. Overall, women have had higher growth compared to men. The disposable income for women have grown by more than 60% from 1987 to 2017 while men's disposable income have grown by 50 % in the same period. The disposable income for both men and women generally have had positive growth rates throughout the period. Men's disposable income have been hit harder by recessions as the growth have decreased relatively more compared to women's growth in income. This is espicially seen by the financial crisis that started in 2007. This could mean that men works in professions which are more sensitive to economic cycles."
   ]
  },
  {
   "cell_type": "markdown",
   "metadata": {},
   "source": [
    "---"
   ]
  }
 ],
 "metadata": {
  "kernelspec": {
   "display_name": "Python 3",
   "language": "python",
   "name": "python3"
  },
  "language_info": {
   "codemirror_mode": {
    "name": "ipython",
    "version": 3
   },
   "file_extension": ".py",
   "mimetype": "text/x-python",
   "name": "python",
   "nbconvert_exporter": "python",
   "pygments_lexer": "ipython3",
   "version": "3.7.1"
  }
 },
 "nbformat": 4,
 "nbformat_minor": 2
}
